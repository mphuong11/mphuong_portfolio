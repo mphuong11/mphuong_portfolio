{
 "cells": [
  {
   "cell_type": "markdown",
   "id": "c9c90cf4",
   "metadata": {},
   "source": [
    "# Great Schools Web scraping using Python"
   ]
  },
  {
   "cell_type": "markdown",
   "id": "d53d1e75",
   "metadata": {},
   "source": [
    "## Introduction\n",
    "GreatSchools is the leading nonprofit providing high-quality information that supports parents pursuing a great education for their child, schools striving for excellence, and communities working to diminish inequities in education. The website provides ratings and comparison tools based on student growth, college readiness, equity, and test scores for public schools in the U.S. Of all the school rating sites, GreatSchools is the only one that factors student progress — or growth — into its methodology. This is significant as research has shown growth data to provide a more accurate representation of student progress and school quality. As of July 2017, the GreatSchools database contains information for more than 138,000 public, private, and charter schools in the United States.\n",
    "\n",
    "Our paper covers some basic information of school in New York, NY scraped from the website and the code to scrape it, including utilizing packages Selenium to get the data needed.\n",
    "\n",
    "\n",
    "### I. Web scraping <a class=\"anchor\" id=\"sub_section_1_1_1\"></a>\n",
    "Import the necessary libraries"
   ]
  },
  {
   "cell_type": "code",
   "execution_count": 148,
   "id": "cfa0d056",
   "metadata": {},
   "outputs": [],
   "source": [
    "from selenium import webdriver\n",
    "from selenium.webdriver.chrome.options import Options\n",
    "from selenium.webdriver.common.by import By\n",
    "import pandas as pd\n",
    "import numpy as np"
   ]
  },
  {
   "cell_type": "markdown",
   "id": "69f6735d",
   "metadata": {},
   "source": [
    "Let's make a request and get the code of the whole page."
   ]
  },
  {
   "cell_type": "code",
   "execution_count": 40,
   "id": "b1aabb52",
   "metadata": {},
   "outputs": [],
   "source": [
    "driver = webdriver.Chrome()\n",
    "driver.get(\"https://www.greatschools.org/new-york/new-york/schools/?distance=5&gradeLevels%5B%5D=e&gradeLevels%5B%5D=m&gradeLevels%5B%5D=h&lat=40.6906&locationType=city&lon=-73.9488&page=1&view=table\")\n",
    "driver.implicitly_wait(0.5)"
   ]
  },
  {
   "cell_type": "code",
   "execution_count": 5,
   "id": "f43ae060",
   "metadata": {},
   "outputs": [
    {
     "data": {
      "text/plain": [
       "'New York Elementary Schools, 1-25 - New York, NY | GreatSchools'"
      ]
     },
     "execution_count": 5,
     "metadata": {},
     "output_type": "execute_result"
    }
   ],
   "source": [
    "driver.title"
   ]
  },
  {
   "cell_type": "markdown",
   "id": "d19a92f2",
   "metadata": {},
   "source": [
    "Let's create the list of all the school data we scrape from website:"
   ]
  },
  {
   "cell_type": "code",
   "execution_count": 121,
   "id": "dd29bec6",
   "metadata": {},
   "outputs": [],
   "source": [
    "greatschool = []"
   ]
  },
  {
   "cell_type": "markdown",
   "id": "5f4ce156",
   "metadata": {},
   "source": [
    "Create variables of data needed from the website including basic information of schools, ratings and reviews."
   ]
  },
  {
   "cell_type": "code",
   "execution_count": 122,
   "id": "6e28deb0",
   "metadata": {},
   "outputs": [],
   "source": [
    "def gettable(page):\n",
    "    url = f'https://www.greatschools.org/new-york/new-york/schools/?distance=5&gradeLevels%5B%5D=e&gradeLevels%5B%5D=m&gradeLevels%5B%5D=h&lat=40.6906&locationType=city&lon=-73.9488&page={page}&view=table'\n",
    "    driver = webdriver.Chrome()\n",
    "    driver.get(url)\n",
    "    table = driver.find_element(By.TAG_NAME, 'tbody')\n",
    "    lists = table.find_elements(By.TAG_NAME, 'tr')\n",
    "    for i in lists:\n",
    "        info = {\n",
    "            'School': i.find_element(By.TAG_NAME,'a').text,\n",
    "            'Details': i.find_element(By.TAG_NAME,'a').get_attribute('href'),\n",
    "            'Address': i.find_element(By.CLASS_NAME,\"address\").text,\n",
    "            'Summary Rating': i.find_element(By.CSS_SELECTOR, '[class=\"rating-container\"]').text.split('\\n')[0],\n",
    "            'Rating Class': i.find_element(By.CLASS_NAME,\"scale\").text,\n",
    "            'Type': i.find_elements(By.TAG_NAME,'td')[1].text,\n",
    "            'Grades': i.find_elements(By.TAG_NAME,'td')[2].text,\n",
    "            'Total students enrolled': i.find_elements(By.TAG_NAME,'td')[3].text,\n",
    "            'Students per teacher': i.find_elements(By.TAG_NAME,'td')[4].text,\n",
    "            'Number of Reviews': i.find_elements(By.TAG_NAME,'td')[5].text.split('\\n')[0],\n",
    "            'Reviews': i.find_elements(By.TAG_NAME,'td')[5].text.split('\\n')[-1],\n",
    "        }\n",
    "    driver.find_element(By.CSS_SELECTOR, '[aria-label=\"Academic\"]').click()\n",
    "    table1 = driver.find_element(By.TAG_NAME, 'tbody')\n",
    "    lists1 = table1.find_elements(By.TAG_NAME, 'tr')\n",
    "    for i in lists1:\n",
    "        info.update({\n",
    "            'Test Scores Rating': i.find_elements(By.TAG_NAME,'td')[1].text.split('\\n')[0],\n",
    "            'Student Progress Rating': i.find_elements(By.TAG_NAME,'td')[2].text.split('\\n')[0],\n",
    "            'College Readiness Rating': i.find_elements(By.TAG_NAME,'td')[3].text.split('\\n')[0],\n",
    "            'Equity Overview Rating': i.find_elements(By.TAG_NAME,'td')[4].text.split('\\n')[0],\n",
    "        })\n",
    "        greatschool.append(info)\n",
    "    return"
   ]
  },
  {
   "cell_type": "markdown",
   "id": "47651c21",
   "metadata": {},
   "source": [
    "We will get the first 20 pages of Schools list near New York, NY sorted by GreatSchools Rating with the school Level from elementary to high school. As each page contains data of 25 schools, we would scrape data from top 500 schools from website."
   ]
  },
  {
   "cell_type": "code",
   "execution_count": 123,
   "id": "63c76391",
   "metadata": {},
   "outputs": [],
   "source": [
    "for x in range(1,21):\n",
    "    gettable(x)"
   ]
  },
  {
   "cell_type": "code",
   "execution_count": 139,
   "id": "bf87252f",
   "metadata": {},
   "outputs": [
    {
     "data": {
      "text/plain": [
       "500"
      ]
     },
     "execution_count": 139,
     "metadata": {},
     "output_type": "execute_result"
    }
   ],
   "source": [
    "len(greatschool)"
   ]
  },
  {
   "cell_type": "markdown",
   "id": "b911955a",
   "metadata": {},
   "source": [
    "Now get some look at the preview of data we have scraped."
   ]
  },
  {
   "cell_type": "code",
   "execution_count": 140,
   "id": "25298b0c",
   "metadata": {},
   "outputs": [
    {
     "data": {
      "text/html": [
       "<div>\n",
       "<style scoped>\n",
       "    .dataframe tbody tr th:only-of-type {\n",
       "        vertical-align: middle;\n",
       "    }\n",
       "\n",
       "    .dataframe tbody tr th {\n",
       "        vertical-align: top;\n",
       "    }\n",
       "\n",
       "    .dataframe thead th {\n",
       "        text-align: right;\n",
       "    }\n",
       "</style>\n",
       "<table border=\"1\" class=\"dataframe\">\n",
       "  <thead>\n",
       "    <tr style=\"text-align: right;\">\n",
       "      <th></th>\n",
       "      <th>School</th>\n",
       "      <th>Details</th>\n",
       "      <th>Adress</th>\n",
       "      <th>Summary Rating</th>\n",
       "      <th>Rating Class</th>\n",
       "      <th>Type</th>\n",
       "      <th>Grades</th>\n",
       "      <th>Total students enrolled</th>\n",
       "      <th>Students per teacher</th>\n",
       "      <th>Number of Reviews</th>\n",
       "      <th>Reviews</th>\n",
       "      <th>Test Scores Rating</th>\n",
       "      <th>Student Progress Rating</th>\n",
       "      <th>College Readiness Rating</th>\n",
       "      <th>Equity Overview Rating</th>\n",
       "    </tr>\n",
       "  </thead>\n",
       "  <tbody>\n",
       "    <tr>\n",
       "      <th>0</th>\n",
       "      <td>Bedford Stuyvesant New Beginnings Charter School</td>\n",
       "      <td>https://www.greatschools.org/new-york/brooklyn...</td>\n",
       "      <td>82 Lewis Avenue, Brooklyn, NY, 11206</td>\n",
       "      <td>9</td>\n",
       "      <td>Above average</td>\n",
       "      <td>Public charter</td>\n",
       "      <td>K-8</td>\n",
       "      <td>702</td>\n",
       "      <td>10:1</td>\n",
       "      <td>3 Reviews</td>\n",
       "      <td>2.7</td>\n",
       "      <td>8</td>\n",
       "      <td>8</td>\n",
       "      <td>N/A</td>\n",
       "      <td>10</td>\n",
       "    </tr>\n",
       "    <tr>\n",
       "      <th>1</th>\n",
       "      <td>Bedford Stuyvesant New Beginnings Charter School</td>\n",
       "      <td>https://www.greatschools.org/new-york/brooklyn...</td>\n",
       "      <td>82 Lewis Avenue, Brooklyn, NY, 11206</td>\n",
       "      <td>9</td>\n",
       "      <td>Above average</td>\n",
       "      <td>Public charter</td>\n",
       "      <td>K-8</td>\n",
       "      <td>702</td>\n",
       "      <td>10:1</td>\n",
       "      <td>3 Reviews</td>\n",
       "      <td>2.7</td>\n",
       "      <td>8</td>\n",
       "      <td>8</td>\n",
       "      <td>N/A</td>\n",
       "      <td>10</td>\n",
       "    </tr>\n",
       "    <tr>\n",
       "      <th>2</th>\n",
       "      <td>Bedford Stuyvesant New Beginnings Charter School</td>\n",
       "      <td>https://www.greatschools.org/new-york/brooklyn...</td>\n",
       "      <td>82 Lewis Avenue, Brooklyn, NY, 11206</td>\n",
       "      <td>9</td>\n",
       "      <td>Above average</td>\n",
       "      <td>Public charter</td>\n",
       "      <td>K-8</td>\n",
       "      <td>702</td>\n",
       "      <td>10:1</td>\n",
       "      <td>3 Reviews</td>\n",
       "      <td>2.7</td>\n",
       "      <td>8</td>\n",
       "      <td>8</td>\n",
       "      <td>N/A</td>\n",
       "      <td>10</td>\n",
       "    </tr>\n",
       "    <tr>\n",
       "      <th>3</th>\n",
       "      <td>Bedford Stuyvesant New Beginnings Charter School</td>\n",
       "      <td>https://www.greatschools.org/new-york/brooklyn...</td>\n",
       "      <td>82 Lewis Avenue, Brooklyn, NY, 11206</td>\n",
       "      <td>9</td>\n",
       "      <td>Above average</td>\n",
       "      <td>Public charter</td>\n",
       "      <td>K-8</td>\n",
       "      <td>702</td>\n",
       "      <td>10:1</td>\n",
       "      <td>3 Reviews</td>\n",
       "      <td>2.7</td>\n",
       "      <td>8</td>\n",
       "      <td>8</td>\n",
       "      <td>N/A</td>\n",
       "      <td>10</td>\n",
       "    </tr>\n",
       "    <tr>\n",
       "      <th>4</th>\n",
       "      <td>Bedford Stuyvesant New Beginnings Charter School</td>\n",
       "      <td>https://www.greatschools.org/new-york/brooklyn...</td>\n",
       "      <td>82 Lewis Avenue, Brooklyn, NY, 11206</td>\n",
       "      <td>9</td>\n",
       "      <td>Above average</td>\n",
       "      <td>Public charter</td>\n",
       "      <td>K-8</td>\n",
       "      <td>702</td>\n",
       "      <td>10:1</td>\n",
       "      <td>3 Reviews</td>\n",
       "      <td>2.7</td>\n",
       "      <td>8</td>\n",
       "      <td>8</td>\n",
       "      <td>N/A</td>\n",
       "      <td>10</td>\n",
       "    </tr>\n",
       "    <tr>\n",
       "      <th>...</th>\n",
       "      <td>...</td>\n",
       "      <td>...</td>\n",
       "      <td>...</td>\n",
       "      <td>...</td>\n",
       "      <td>...</td>\n",
       "      <td>...</td>\n",
       "      <td>...</td>\n",
       "      <td>...</td>\n",
       "      <td>...</td>\n",
       "      <td>...</td>\n",
       "      <td>...</td>\n",
       "      <td>...</td>\n",
       "      <td>...</td>\n",
       "      <td>...</td>\n",
       "      <td>...</td>\n",
       "    </tr>\n",
       "    <tr>\n",
       "      <th>495</th>\n",
       "      <td>Ps 5 Dr Ronald Mcnair</td>\n",
       "      <td>https://www.greatschools.org/new-york/brooklyn...</td>\n",
       "      <td>820 Hancock Street, Brooklyn, NY, 11233</td>\n",
       "      <td>3</td>\n",
       "      <td>Below average</td>\n",
       "      <td>Public district</td>\n",
       "      <td>PK, K-5 &amp; Ungraded</td>\n",
       "      <td>213</td>\n",
       "      <td>11:1</td>\n",
       "      <td>5 Reviews</td>\n",
       "      <td>3.8</td>\n",
       "      <td>5</td>\n",
       "      <td>1</td>\n",
       "      <td>N/A</td>\n",
       "      <td>4</td>\n",
       "    </tr>\n",
       "    <tr>\n",
       "      <th>496</th>\n",
       "      <td>Ps 5 Dr Ronald Mcnair</td>\n",
       "      <td>https://www.greatschools.org/new-york/brooklyn...</td>\n",
       "      <td>820 Hancock Street, Brooklyn, NY, 11233</td>\n",
       "      <td>3</td>\n",
       "      <td>Below average</td>\n",
       "      <td>Public district</td>\n",
       "      <td>PK, K-5 &amp; Ungraded</td>\n",
       "      <td>213</td>\n",
       "      <td>11:1</td>\n",
       "      <td>5 Reviews</td>\n",
       "      <td>3.8</td>\n",
       "      <td>5</td>\n",
       "      <td>1</td>\n",
       "      <td>N/A</td>\n",
       "      <td>4</td>\n",
       "    </tr>\n",
       "    <tr>\n",
       "      <th>497</th>\n",
       "      <td>Ps 5 Dr Ronald Mcnair</td>\n",
       "      <td>https://www.greatschools.org/new-york/brooklyn...</td>\n",
       "      <td>820 Hancock Street, Brooklyn, NY, 11233</td>\n",
       "      <td>3</td>\n",
       "      <td>Below average</td>\n",
       "      <td>Public district</td>\n",
       "      <td>PK, K-5 &amp; Ungraded</td>\n",
       "      <td>213</td>\n",
       "      <td>11:1</td>\n",
       "      <td>5 Reviews</td>\n",
       "      <td>3.8</td>\n",
       "      <td>5</td>\n",
       "      <td>1</td>\n",
       "      <td>N/A</td>\n",
       "      <td>4</td>\n",
       "    </tr>\n",
       "    <tr>\n",
       "      <th>498</th>\n",
       "      <td>Ps 5 Dr Ronald Mcnair</td>\n",
       "      <td>https://www.greatschools.org/new-york/brooklyn...</td>\n",
       "      <td>820 Hancock Street, Brooklyn, NY, 11233</td>\n",
       "      <td>3</td>\n",
       "      <td>Below average</td>\n",
       "      <td>Public district</td>\n",
       "      <td>PK, K-5 &amp; Ungraded</td>\n",
       "      <td>213</td>\n",
       "      <td>11:1</td>\n",
       "      <td>5 Reviews</td>\n",
       "      <td>3.8</td>\n",
       "      <td>5</td>\n",
       "      <td>1</td>\n",
       "      <td>N/A</td>\n",
       "      <td>4</td>\n",
       "    </tr>\n",
       "    <tr>\n",
       "      <th>499</th>\n",
       "      <td>Ps 5 Dr Ronald Mcnair</td>\n",
       "      <td>https://www.greatschools.org/new-york/brooklyn...</td>\n",
       "      <td>820 Hancock Street, Brooklyn, NY, 11233</td>\n",
       "      <td>3</td>\n",
       "      <td>Below average</td>\n",
       "      <td>Public district</td>\n",
       "      <td>PK, K-5 &amp; Ungraded</td>\n",
       "      <td>213</td>\n",
       "      <td>11:1</td>\n",
       "      <td>5 Reviews</td>\n",
       "      <td>3.8</td>\n",
       "      <td>5</td>\n",
       "      <td>1</td>\n",
       "      <td>N/A</td>\n",
       "      <td>4</td>\n",
       "    </tr>\n",
       "  </tbody>\n",
       "</table>\n",
       "<p>500 rows × 15 columns</p>\n",
       "</div>"
      ],
      "text/plain": [
       "                                               School  \\\n",
       "0    Bedford Stuyvesant New Beginnings Charter School   \n",
       "1    Bedford Stuyvesant New Beginnings Charter School   \n",
       "2    Bedford Stuyvesant New Beginnings Charter School   \n",
       "3    Bedford Stuyvesant New Beginnings Charter School   \n",
       "4    Bedford Stuyvesant New Beginnings Charter School   \n",
       "..                                                ...   \n",
       "495                             Ps 5 Dr Ronald Mcnair   \n",
       "496                             Ps 5 Dr Ronald Mcnair   \n",
       "497                             Ps 5 Dr Ronald Mcnair   \n",
       "498                             Ps 5 Dr Ronald Mcnair   \n",
       "499                             Ps 5 Dr Ronald Mcnair   \n",
       "\n",
       "                                               Details  \\\n",
       "0    https://www.greatschools.org/new-york/brooklyn...   \n",
       "1    https://www.greatschools.org/new-york/brooklyn...   \n",
       "2    https://www.greatschools.org/new-york/brooklyn...   \n",
       "3    https://www.greatschools.org/new-york/brooklyn...   \n",
       "4    https://www.greatschools.org/new-york/brooklyn...   \n",
       "..                                                 ...   \n",
       "495  https://www.greatschools.org/new-york/brooklyn...   \n",
       "496  https://www.greatschools.org/new-york/brooklyn...   \n",
       "497  https://www.greatschools.org/new-york/brooklyn...   \n",
       "498  https://www.greatschools.org/new-york/brooklyn...   \n",
       "499  https://www.greatschools.org/new-york/brooklyn...   \n",
       "\n",
       "                                      Adress Summary Rating   Rating Class  \\\n",
       "0       82 Lewis Avenue, Brooklyn, NY, 11206              9  Above average   \n",
       "1       82 Lewis Avenue, Brooklyn, NY, 11206              9  Above average   \n",
       "2       82 Lewis Avenue, Brooklyn, NY, 11206              9  Above average   \n",
       "3       82 Lewis Avenue, Brooklyn, NY, 11206              9  Above average   \n",
       "4       82 Lewis Avenue, Brooklyn, NY, 11206              9  Above average   \n",
       "..                                       ...            ...            ...   \n",
       "495  820 Hancock Street, Brooklyn, NY, 11233              3  Below average   \n",
       "496  820 Hancock Street, Brooklyn, NY, 11233              3  Below average   \n",
       "497  820 Hancock Street, Brooklyn, NY, 11233              3  Below average   \n",
       "498  820 Hancock Street, Brooklyn, NY, 11233              3  Below average   \n",
       "499  820 Hancock Street, Brooklyn, NY, 11233              3  Below average   \n",
       "\n",
       "                Type              Grades Total students enrolled  \\\n",
       "0     Public charter                 K-8                     702   \n",
       "1     Public charter                 K-8                     702   \n",
       "2     Public charter                 K-8                     702   \n",
       "3     Public charter                 K-8                     702   \n",
       "4     Public charter                 K-8                     702   \n",
       "..               ...                 ...                     ...   \n",
       "495  Public district  PK, K-5 & Ungraded                     213   \n",
       "496  Public district  PK, K-5 & Ungraded                     213   \n",
       "497  Public district  PK, K-5 & Ungraded                     213   \n",
       "498  Public district  PK, K-5 & Ungraded                     213   \n",
       "499  Public district  PK, K-5 & Ungraded                     213   \n",
       "\n",
       "    Students per teacher Number of Reviews Reviews Test Scores Rating  \\\n",
       "0                   10:1         3 Reviews     2.7                  8   \n",
       "1                   10:1         3 Reviews     2.7                  8   \n",
       "2                   10:1         3 Reviews     2.7                  8   \n",
       "3                   10:1         3 Reviews     2.7                  8   \n",
       "4                   10:1         3 Reviews     2.7                  8   \n",
       "..                   ...               ...     ...                ...   \n",
       "495                 11:1         5 Reviews     3.8                  5   \n",
       "496                 11:1         5 Reviews     3.8                  5   \n",
       "497                 11:1         5 Reviews     3.8                  5   \n",
       "498                 11:1         5 Reviews     3.8                  5   \n",
       "499                 11:1         5 Reviews     3.8                  5   \n",
       "\n",
       "    Student Progress Rating College Readiness Rating Equity Overview Rating  \n",
       "0                         8                      N/A                     10  \n",
       "1                         8                      N/A                     10  \n",
       "2                         8                      N/A                     10  \n",
       "3                         8                      N/A                     10  \n",
       "4                         8                      N/A                     10  \n",
       "..                      ...                      ...                    ...  \n",
       "495                       1                      N/A                      4  \n",
       "496                       1                      N/A                      4  \n",
       "497                       1                      N/A                      4  \n",
       "498                       1                      N/A                      4  \n",
       "499                       1                      N/A                      4  \n",
       "\n",
       "[500 rows x 15 columns]"
      ]
     },
     "execution_count": 140,
     "metadata": {},
     "output_type": "execute_result"
    }
   ],
   "source": [
    "df = pd.DataFrame(greatschool)\n",
    "df"
   ]
  },
  {
   "cell_type": "markdown",
   "id": "1d0127d6",
   "metadata": {},
   "source": [
    "### II. Data Cleaning \n",
    "The dataframe is maybe not in the format we want. To clean it up, we should check columns format, table shape and null values."
   ]
  },
  {
   "cell_type": "code",
   "execution_count": 141,
   "id": "4f1ed7e4",
   "metadata": {},
   "outputs": [
    {
     "data": {
      "text/plain": [
       "(500, 15)"
      ]
     },
     "execution_count": 141,
     "metadata": {},
     "output_type": "execute_result"
    }
   ],
   "source": [
    "df.shape"
   ]
  },
  {
   "cell_type": "code",
   "execution_count": 150,
   "id": "f6869088",
   "metadata": {},
   "outputs": [
    {
     "data": {
      "text/plain": [
       "School                        0\n",
       "Details                       0\n",
       "Adress                        0\n",
       "Summary Rating                0\n",
       "Rating Class                  0\n",
       "Type                          0\n",
       "Grades                        0\n",
       "Total students enrolled       0\n",
       "Students per teacher          0\n",
       "Number of Reviews             0\n",
       "Reviews                       0\n",
       "Test Scores Rating            0\n",
       "Student Progress Rating     125\n",
       "College Readiness Rating    325\n",
       "Equity Overview Rating        0\n",
       "dtype: int64"
      ]
     },
     "execution_count": 150,
     "metadata": {},
     "output_type": "execute_result"
    }
   ],
   "source": [
    "df.replace('N/A', np.nan, inplace=True)\n",
    "df.isnull().sum()"
   ]
  },
  {
   "cell_type": "markdown",
   "id": "763eb399",
   "metadata": {},
   "source": [
    "As we see, there are some null values in Student Progress Rating and College Readiness Rating."
   ]
  },
  {
   "cell_type": "code",
   "execution_count": 157,
   "id": "c0ee1567",
   "metadata": {},
   "outputs": [
    {
     "data": {
      "text/plain": [
       "School                      object\n",
       "Details                     object\n",
       "Adress                      object\n",
       "Summary Rating              object\n",
       "Rating Class                object\n",
       "Type                        object\n",
       "Grades                      object\n",
       "Total students enrolled     object\n",
       "Students per teacher        object\n",
       "Number of Reviews           object\n",
       "Reviews                     object\n",
       "Test Scores Rating          object\n",
       "Student Progress Rating     object\n",
       "College Readiness Rating    object\n",
       "Equity Overview Rating      object\n",
       "dtype: object"
      ]
     },
     "execution_count": 157,
     "metadata": {},
     "output_type": "execute_result"
    }
   ],
   "source": [
    "df.dtypes"
   ]
  },
  {
   "cell_type": "markdown",
   "id": "ed6769c1",
   "metadata": {},
   "source": [
    "We should convert some columns into numeric format for data analysis easier."
   ]
  },
  {
   "cell_type": "code",
   "execution_count": 161,
   "id": "dcc79b48",
   "metadata": {},
   "outputs": [],
   "source": [
    "df[['Summary Rating','Total students enrolled','Reviews','Test Scores Rating','Student Progress Rating','College Readiness Rating','Equity Overview Rating']]=df[['Summary Rating','Total students enrolled','Reviews','Test Scores Rating','Student Progress Rating','College Readiness Rating','Equity Overview Rating']].apply(pd.to_numeric)"
   ]
  },
  {
   "cell_type": "code",
   "execution_count": 163,
   "id": "767adac9",
   "metadata": {},
   "outputs": [
    {
     "data": {
      "text/plain": [
       "School                       object\n",
       "Details                      object\n",
       "Adress                       object\n",
       "Summary Rating                int64\n",
       "Rating Class                 object\n",
       "Type                         object\n",
       "Grades                       object\n",
       "Total students enrolled       int64\n",
       "Students per teacher         object\n",
       "Number of Reviews            object\n",
       "Reviews                     float64\n",
       "Test Scores Rating            int64\n",
       "Student Progress Rating     float64\n",
       "College Readiness Rating    float64\n",
       "Equity Overview Rating        int64\n",
       "dtype: object"
      ]
     },
     "execution_count": 163,
     "metadata": {},
     "output_type": "execute_result"
    }
   ],
   "source": [
    "df.dtypes"
   ]
  },
  {
   "cell_type": "markdown",
   "id": "117197f7",
   "metadata": {},
   "source": [
    "### III. Export and Data summary <a class=\"anchor\" id=\"sub_section_1_1_1\"></a>"
   ]
  },
  {
   "cell_type": "code",
   "execution_count": 164,
   "id": "1f3226dd",
   "metadata": {},
   "outputs": [],
   "source": [
    "df.to_csv('Top 500 Schools in New York, NY | GreatSchools.csv')"
   ]
  },
  {
   "cell_type": "markdown",
   "id": "7261b6bf",
   "metadata": {},
   "source": [
    "This is dataset: \n",
    "- Dataset Structure: 500 observations (rows), 15 features (variables)\n",
    "- Missing Data: 450 missing data total in all columns\n",
    "- Data Type: two datatypes in this dataset: objects and integers\n"
   ]
  },
  {
   "cell_type": "markdown",
   "id": "c2b04358",
   "metadata": {},
   "source": [
    "| Column | Description | \n",
    "| :---: | :--- |\n",
    "| School | Name of school in the list. |\n",
    "| Details | Link to the detailed school information and reviews. |\n",
    "| Address | Address of the school. |\n",
    "| Summary Rating | an overall snapshot of school quality. Ratings follow a 1-10 scale, where top-rated schools are \"10s\". |\n",
    "| Rating Class | Ratings between 1-4 signal “below average”; 5-6 indicate “average”; ratings of 7-10 are “above average” |\n",
    "| Type | School Type including: Public district, Public Charter, Private. |\n",
    "| Grades | Grade or school level the school providing. |\n",
    "| Total students enrolled | Total number of all students enrolled in a campuses of a school as the last update. |\n",
    "| Students per teacher | The number of students who attend a school divided by the number of teachers in the institution. |\n",
    "| Number of Reviews | Number of reviews from current students or parent/guardians. |\n",
    "| Reviews | Overall school rate from current students or parent/guardians. |\n",
    "| Test Scores Rating | Reflect annual state test results for this school compared with scores statewide. |\n",
    "| Student Progress Rating | Comparing the academic progress over time for this school to all schools in the state, using student growth data provided by the state Department of Education. |\n",
    "| College Readiness Rating | This shows how well students at this school are prepared for college compared to students at other schools in this state, based on key measures, like graduation rates, college entrance tests and AP coursework when available. |\n",
    "| Equity Overview Rating | This looks at how well this school is serving the needs of its disadvantaged students relative to all its students, compared to other schools in the state, based on test scores provided from the state Department of Education. |"
   ]
  }
 ],
 "metadata": {
  "kernelspec": {
   "display_name": "Python 3 (ipykernel)",
   "language": "python",
   "name": "python3"
  },
  "language_info": {
   "codemirror_mode": {
    "name": "ipython",
    "version": 3
   },
   "file_extension": ".py",
   "mimetype": "text/x-python",
   "name": "python",
   "nbconvert_exporter": "python",
   "pygments_lexer": "ipython3",
   "version": "3.10.9"
  }
 },
 "nbformat": 4,
 "nbformat_minor": 5
}
