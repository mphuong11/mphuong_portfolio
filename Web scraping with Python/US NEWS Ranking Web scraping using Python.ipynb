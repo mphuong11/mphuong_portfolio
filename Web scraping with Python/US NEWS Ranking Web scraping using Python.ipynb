{
 "cells": [
  {
   "cell_type": "markdown",
   "id": "e7067ad2",
   "metadata": {},
   "source": [
    "# US NEWS Ranking Web scraping using Python"
   ]
  },
  {
   "cell_type": "markdown",
   "id": "09ae3f12",
   "metadata": {},
   "source": [
    "## Introduction\n",
    "Your investment in a college education could profoundly affect your career opportunities, how much money you earn (i.e., your earning power) and your quality of life. Whatever degree you decide to pursue, choosing the right college is a huge first step. To find the right college, you need a source of comprehensive data – information that lets you compare one school with another and find the differences that matter to you. That's what U.S. News' Best College rankings are for. National Universities offer a range of undergraduate majors, plus master's and doctoral programs, and emphasize faculty research or award professional practice doctorates.\n",
    "\n",
    "This paper covers the rankings of National University in the US with some basic information scraped from US News and the code to scrape it, including utilizing packages Selenium to get the data needed.\n",
    "\n",
    "### I. Web scraping <a class=\"anchor\" id=\"sub_section_1_1_1\"></a>\n",
    "Import the necessary libraries"
   ]
  },
  {
   "cell_type": "code",
   "execution_count": 1,
   "id": "35b304a5",
   "metadata": {},
   "outputs": [],
   "source": [
    "from selenium import webdriver\n",
    "from selenium.webdriver.chrome.options import Options\n",
    "from selenium.webdriver.common.by import By\n",
    "import pandas as pd\n",
    "import numpy as np"
   ]
  },
  {
   "cell_type": "markdown",
   "id": "19364482",
   "metadata": {},
   "source": [
    "Let's make a request and get the code of the whole page."
   ]
  },
  {
   "cell_type": "code",
   "execution_count": 7,
   "id": "2283b50a",
   "metadata": {},
   "outputs": [],
   "source": [
    "driver = webdriver.Chrome()\n",
    "driver.get('https://www.usnews.com/best-colleges/rankings/national-universities?_mode=table')"
   ]
  },
  {
   "cell_type": "code",
   "execution_count": 8,
   "id": "06c431f0",
   "metadata": {},
   "outputs": [
    {
     "data": {
      "text/plain": [
       "'2024 Best National Universities | US News Rankings'"
      ]
     },
     "execution_count": 8,
     "metadata": {},
     "output_type": "execute_result"
    }
   ],
   "source": [
    "driver.title"
   ]
  },
  {
   "cell_type": "markdown",
   "id": "7f460788",
   "metadata": {},
   "source": [
    "Let's create the list of all the universities data we scrape from website:"
   ]
  },
  {
   "cell_type": "code",
   "execution_count": 18,
   "id": "4e2af53d",
   "metadata": {},
   "outputs": [],
   "source": [
    "universitylist = []"
   ]
  },
  {
   "cell_type": "code",
   "execution_count": 10,
   "id": "62350d2f",
   "metadata": {},
   "outputs": [],
   "source": [
    "lists = driver.find_element(By.TAG_NAME, 'tbody')\n",
    "unilist = lists.find_elements(By.CSS_SELECTOR, '[class=\"search-table__TableRow-sc-8xxgib-5 jSNVDf\"]')"
   ]
  },
  {
   "cell_type": "code",
   "execution_count": 11,
   "id": "bd2e00c0",
   "metadata": {},
   "outputs": [
    {
     "data": {
      "text/plain": [
       "400"
      ]
     },
     "execution_count": 11,
     "metadata": {},
     "output_type": "execute_result"
    }
   ],
   "source": [
    "len(unilist)    "
   ]
  },
  {
   "cell_type": "markdown",
   "id": "598ad742",
   "metadata": {},
   "source": [
    "Create variables of data needed from the website including basic information, ranks and link for details."
   ]
  },
  {
   "cell_type": "code",
   "execution_count": 19,
   "id": "12a43b84",
   "metadata": {},
   "outputs": [],
   "source": [
    "for i in unilist:\n",
    "    info={\n",
    "        'University': i.find_element(By.TAG_NAME,'h3').text,\n",
    "        'Details': i.find_element(By.TAG_NAME,'a').get_attribute('href'),\n",
    "        'Location': i.find_element(By.TAG_NAME,'p').text,\n",
    "        'Rank': i.find_element(By.CSS_SELECTOR, '[class=\"RankList__ListItem-sc-2xewen-1 dofuo rank-list-item\"]').text.split('\\n')[0][1:],\n",
    "        'Tuition & Fee($)': i.find_element(By.CSS_SELECTOR, '[class=\"ResultsTableAtlas__TableCell-sc-1wtgwb-6 ResultsTableAtlas__DataCell-sc-1wtgwb-8 erKNyE eceoqp\"]').text.split('\\n')[0][1:],\n",
    "        'Undergraduate enrollment (fall 2022)': i.find_elements(By.CSS_SELECTOR, '[class=\"Span-sc-19wk4id-0 ResultsTableAtlas__StatValue-sc-1wtgwb-13 dDrKMw hNWEBi\"]')[1].text.split('\\n')[0],\n",
    "        \n",
    "    }\n",
    "    universitylist.append(info)\n"
   ]
  },
  {
   "cell_type": "code",
   "execution_count": 20,
   "id": "2d93e2b8",
   "metadata": {},
   "outputs": [
    {
     "data": {
      "text/plain": [
       "400"
      ]
     },
     "execution_count": 20,
     "metadata": {},
     "output_type": "execute_result"
    }
   ],
   "source": [
    "len(universitylist)"
   ]
  },
  {
   "cell_type": "markdown",
   "id": "d6d8e8d1",
   "metadata": {},
   "source": [
    "Now get some look at the preview of data we have scraped."
   ]
  },
  {
   "cell_type": "code",
   "execution_count": 21,
   "id": "dba05047",
   "metadata": {},
   "outputs": [
    {
     "data": {
      "text/html": [
       "<div>\n",
       "<style scoped>\n",
       "    .dataframe tbody tr th:only-of-type {\n",
       "        vertical-align: middle;\n",
       "    }\n",
       "\n",
       "    .dataframe tbody tr th {\n",
       "        vertical-align: top;\n",
       "    }\n",
       "\n",
       "    .dataframe thead th {\n",
       "        text-align: right;\n",
       "    }\n",
       "</style>\n",
       "<table border=\"1\" class=\"dataframe\">\n",
       "  <thead>\n",
       "    <tr style=\"text-align: right;\">\n",
       "      <th></th>\n",
       "      <th>University</th>\n",
       "      <th>Details</th>\n",
       "      <th>Location</th>\n",
       "      <th>Rank</th>\n",
       "      <th>Tuition &amp; Fee($)</th>\n",
       "      <th>Undergraduate enrollment (fall 2022)</th>\n",
       "    </tr>\n",
       "  </thead>\n",
       "  <tbody>\n",
       "    <tr>\n",
       "      <th>0</th>\n",
       "      <td>Princeton University</td>\n",
       "      <td>https://www.usnews.com/best-colleges/princeton...</td>\n",
       "      <td>Princeton, NJ</td>\n",
       "      <td>1</td>\n",
       "      <td>59,710</td>\n",
       "      <td>5,604</td>\n",
       "    </tr>\n",
       "    <tr>\n",
       "      <th>1</th>\n",
       "      <td>Massachusetts Institute of Technology</td>\n",
       "      <td>https://www.usnews.com/best-colleges/massachus...</td>\n",
       "      <td>Cambridge, MA</td>\n",
       "      <td>2</td>\n",
       "      <td>60,156</td>\n",
       "      <td>4,657</td>\n",
       "    </tr>\n",
       "    <tr>\n",
       "      <th>2</th>\n",
       "      <td>Harvard University</td>\n",
       "      <td>https://www.usnews.com/best-colleges/harvard-u...</td>\n",
       "      <td>Cambridge, MA</td>\n",
       "      <td>3</td>\n",
       "      <td>59,076</td>\n",
       "      <td>7,240</td>\n",
       "    </tr>\n",
       "    <tr>\n",
       "      <th>3</th>\n",
       "      <td>Stanford University</td>\n",
       "      <td>https://www.usnews.com/best-colleges/stanford-...</td>\n",
       "      <td>Stanford, CA</td>\n",
       "      <td>3</td>\n",
       "      <td>62,484</td>\n",
       "      <td>8,049</td>\n",
       "    </tr>\n",
       "    <tr>\n",
       "      <th>4</th>\n",
       "      <td>Yale University</td>\n",
       "      <td>https://www.usnews.com/best-colleges/yale-univ...</td>\n",
       "      <td>New Haven, CT</td>\n",
       "      <td>5</td>\n",
       "      <td>64,700</td>\n",
       "      <td>6,645</td>\n",
       "    </tr>\n",
       "    <tr>\n",
       "      <th>...</th>\n",
       "      <td>...</td>\n",
       "      <td>...</td>\n",
       "      <td>...</td>\n",
       "      <td>...</td>\n",
       "      <td>...</td>\n",
       "      <td>...</td>\n",
       "    </tr>\n",
       "    <tr>\n",
       "      <th>395</th>\n",
       "      <td>Barry University</td>\n",
       "      <td>https://www.usnews.com/best-colleges/barry-uni...</td>\n",
       "      <td>Miami Shores, FL</td>\n",
       "      <td>394-435</td>\n",
       "      <td>32,500</td>\n",
       "      <td>3,122</td>\n",
       "    </tr>\n",
       "    <tr>\n",
       "      <th>396</th>\n",
       "      <td>Belhaven University</td>\n",
       "      <td>https://www.usnews.com/best-colleges/belhaven-...</td>\n",
       "      <td>Jackson, MS</td>\n",
       "      <td>394-435</td>\n",
       "      <td>29,195</td>\n",
       "      <td>1,501</td>\n",
       "    </tr>\n",
       "    <tr>\n",
       "      <th>397</th>\n",
       "      <td>Brenau University</td>\n",
       "      <td>https://www.usnews.com/best-colleges/brenau-un...</td>\n",
       "      <td>Gainesville, GA</td>\n",
       "      <td>394-435</td>\n",
       "      <td>33,275</td>\n",
       "      <td>1,367</td>\n",
       "    </tr>\n",
       "    <tr>\n",
       "      <th>398</th>\n",
       "      <td>Briar Cliff University</td>\n",
       "      <td>https://www.usnews.com/best-colleges/briar-cli...</td>\n",
       "      <td>Sioux City, IA</td>\n",
       "      <td>394-435</td>\n",
       "      <td>34,498</td>\n",
       "      <td>709</td>\n",
       "    </tr>\n",
       "    <tr>\n",
       "      <th>399</th>\n",
       "      <td>Capitol Technology University</td>\n",
       "      <td>https://www.usnews.com/best-colleges/capitol-t...</td>\n",
       "      <td>Laurel, MD</td>\n",
       "      <td>394-435</td>\n",
       "      <td>27,004</td>\n",
       "      <td>N/A</td>\n",
       "    </tr>\n",
       "  </tbody>\n",
       "</table>\n",
       "<p>400 rows × 6 columns</p>\n",
       "</div>"
      ],
      "text/plain": [
       "                                University  \\\n",
       "0                     Princeton University   \n",
       "1    Massachusetts Institute of Technology   \n",
       "2                       Harvard University   \n",
       "3                      Stanford University   \n",
       "4                          Yale University   \n",
       "..                                     ...   \n",
       "395                       Barry University   \n",
       "396                    Belhaven University   \n",
       "397                      Brenau University   \n",
       "398                 Briar Cliff University   \n",
       "399          Capitol Technology University   \n",
       "\n",
       "                                               Details          Location  \\\n",
       "0    https://www.usnews.com/best-colleges/princeton...     Princeton, NJ   \n",
       "1    https://www.usnews.com/best-colleges/massachus...     Cambridge, MA   \n",
       "2    https://www.usnews.com/best-colleges/harvard-u...     Cambridge, MA   \n",
       "3    https://www.usnews.com/best-colleges/stanford-...      Stanford, CA   \n",
       "4    https://www.usnews.com/best-colleges/yale-univ...     New Haven, CT   \n",
       "..                                                 ...               ...   \n",
       "395  https://www.usnews.com/best-colleges/barry-uni...  Miami Shores, FL   \n",
       "396  https://www.usnews.com/best-colleges/belhaven-...       Jackson, MS   \n",
       "397  https://www.usnews.com/best-colleges/brenau-un...   Gainesville, GA   \n",
       "398  https://www.usnews.com/best-colleges/briar-cli...    Sioux City, IA   \n",
       "399  https://www.usnews.com/best-colleges/capitol-t...        Laurel, MD   \n",
       "\n",
       "        Rank Tuition & Fee($) Undergraduate enrollment (fall 2022)  \n",
       "0          1           59,710                                5,604  \n",
       "1          2           60,156                                4,657  \n",
       "2          3           59,076                                7,240  \n",
       "3          3           62,484                                8,049  \n",
       "4          5           64,700                                6,645  \n",
       "..       ...              ...                                  ...  \n",
       "395  394-435           32,500                                3,122  \n",
       "396  394-435           29,195                                1,501  \n",
       "397  394-435           33,275                                1,367  \n",
       "398  394-435           34,498                                  709  \n",
       "399  394-435           27,004                                  N/A  \n",
       "\n",
       "[400 rows x 6 columns]"
      ]
     },
     "execution_count": 21,
     "metadata": {},
     "output_type": "execute_result"
    }
   ],
   "source": [
    "df = pd.DataFrame(universitylist)\n",
    "df"
   ]
  },
  {
   "cell_type": "markdown",
   "id": "daf36189",
   "metadata": {},
   "source": [
    "### II. Data Cleaning \n",
    "The dataframe is maybe not in the format we want. To clean it up, we should check columns format, table shape and null values."
   ]
  },
  {
   "cell_type": "code",
   "execution_count": 22,
   "id": "45bd151a",
   "metadata": {},
   "outputs": [
    {
     "data": {
      "text/plain": [
       "(400, 6)"
      ]
     },
     "execution_count": 22,
     "metadata": {},
     "output_type": "execute_result"
    }
   ],
   "source": [
    "df.shape"
   ]
  },
  {
   "cell_type": "code",
   "execution_count": 23,
   "id": "78cb4d65",
   "metadata": {},
   "outputs": [
    {
     "data": {
      "text/plain": [
       "University                               0\n",
       "Details                                  0\n",
       "Location                                 0\n",
       "Rank                                     0\n",
       "Tuition & Fee($)                         0\n",
       "Undergraduate enrollment (fall 2022)    14\n",
       "dtype: int64"
      ]
     },
     "execution_count": 23,
     "metadata": {},
     "output_type": "execute_result"
    }
   ],
   "source": [
    "df.replace('N/A', np.nan, inplace=True)\n",
    "df.isnull().sum()"
   ]
  },
  {
   "cell_type": "markdown",
   "id": "ff27d826",
   "metadata": {},
   "source": [
    "As we see, there are some null values in column Undergraduate enrollment (fall 2022)."
   ]
  },
  {
   "cell_type": "code",
   "execution_count": 24,
   "id": "d8d0b94e",
   "metadata": {},
   "outputs": [
    {
     "data": {
      "text/plain": [
       "University                              object\n",
       "Details                                 object\n",
       "Location                                object\n",
       "Rank                                    object\n",
       "Tuition & Fee($)                        object\n",
       "Undergraduate enrollment (fall 2022)    object\n",
       "dtype: object"
      ]
     },
     "execution_count": 24,
     "metadata": {},
     "output_type": "execute_result"
    }
   ],
   "source": [
    "df.dtypes"
   ]
  },
  {
   "cell_type": "code",
   "execution_count": 25,
   "id": "805bbd09",
   "metadata": {},
   "outputs": [],
   "source": [
    "df['Tuition & Fee($)'].replace({',': ''}, regex=True, inplace=True)\n",
    "df['Undergraduate enrollment (fall 2022)'].replace({',': ''}, regex=True, inplace=True)"
   ]
  },
  {
   "cell_type": "code",
   "execution_count": 26,
   "id": "4dc40da9",
   "metadata": {},
   "outputs": [
    {
     "data": {
      "text/html": [
       "<div>\n",
       "<style scoped>\n",
       "    .dataframe tbody tr th:only-of-type {\n",
       "        vertical-align: middle;\n",
       "    }\n",
       "\n",
       "    .dataframe tbody tr th {\n",
       "        vertical-align: top;\n",
       "    }\n",
       "\n",
       "    .dataframe thead th {\n",
       "        text-align: right;\n",
       "    }\n",
       "</style>\n",
       "<table border=\"1\" class=\"dataframe\">\n",
       "  <thead>\n",
       "    <tr style=\"text-align: right;\">\n",
       "      <th></th>\n",
       "      <th>University</th>\n",
       "      <th>Details</th>\n",
       "      <th>Location</th>\n",
       "      <th>Rank</th>\n",
       "      <th>Tuition &amp; Fee($)</th>\n",
       "      <th>Undergraduate enrollment (fall 2022)</th>\n",
       "    </tr>\n",
       "  </thead>\n",
       "  <tbody>\n",
       "    <tr>\n",
       "      <th>0</th>\n",
       "      <td>Princeton University</td>\n",
       "      <td>https://www.usnews.com/best-colleges/princeton...</td>\n",
       "      <td>Princeton, NJ</td>\n",
       "      <td>1</td>\n",
       "      <td>59710</td>\n",
       "      <td>5604</td>\n",
       "    </tr>\n",
       "    <tr>\n",
       "      <th>1</th>\n",
       "      <td>Massachusetts Institute of Technology</td>\n",
       "      <td>https://www.usnews.com/best-colleges/massachus...</td>\n",
       "      <td>Cambridge, MA</td>\n",
       "      <td>2</td>\n",
       "      <td>60156</td>\n",
       "      <td>4657</td>\n",
       "    </tr>\n",
       "    <tr>\n",
       "      <th>2</th>\n",
       "      <td>Harvard University</td>\n",
       "      <td>https://www.usnews.com/best-colleges/harvard-u...</td>\n",
       "      <td>Cambridge, MA</td>\n",
       "      <td>3</td>\n",
       "      <td>59076</td>\n",
       "      <td>7240</td>\n",
       "    </tr>\n",
       "    <tr>\n",
       "      <th>3</th>\n",
       "      <td>Stanford University</td>\n",
       "      <td>https://www.usnews.com/best-colleges/stanford-...</td>\n",
       "      <td>Stanford, CA</td>\n",
       "      <td>3</td>\n",
       "      <td>62484</td>\n",
       "      <td>8049</td>\n",
       "    </tr>\n",
       "    <tr>\n",
       "      <th>4</th>\n",
       "      <td>Yale University</td>\n",
       "      <td>https://www.usnews.com/best-colleges/yale-univ...</td>\n",
       "      <td>New Haven, CT</td>\n",
       "      <td>5</td>\n",
       "      <td>64700</td>\n",
       "      <td>6645</td>\n",
       "    </tr>\n",
       "  </tbody>\n",
       "</table>\n",
       "</div>"
      ],
      "text/plain": [
       "                              University  \\\n",
       "0                   Princeton University   \n",
       "1  Massachusetts Institute of Technology   \n",
       "2                     Harvard University   \n",
       "3                    Stanford University   \n",
       "4                        Yale University   \n",
       "\n",
       "                                             Details       Location Rank  \\\n",
       "0  https://www.usnews.com/best-colleges/princeton...  Princeton, NJ    1   \n",
       "1  https://www.usnews.com/best-colleges/massachus...  Cambridge, MA    2   \n",
       "2  https://www.usnews.com/best-colleges/harvard-u...  Cambridge, MA    3   \n",
       "3  https://www.usnews.com/best-colleges/stanford-...   Stanford, CA    3   \n",
       "4  https://www.usnews.com/best-colleges/yale-univ...  New Haven, CT    5   \n",
       "\n",
       "  Tuition & Fee($) Undergraduate enrollment (fall 2022)  \n",
       "0            59710                                 5604  \n",
       "1            60156                                 4657  \n",
       "2            59076                                 7240  \n",
       "3            62484                                 8049  \n",
       "4            64700                                 6645  "
      ]
     },
     "execution_count": 26,
     "metadata": {},
     "output_type": "execute_result"
    }
   ],
   "source": [
    "df.head()"
   ]
  },
  {
   "cell_type": "code",
   "execution_count": 27,
   "id": "b54e4998",
   "metadata": {},
   "outputs": [],
   "source": [
    "df[['Tuition & Fee($)','Undergraduate enrollment (fall 2022)']]=df[['Tuition & Fee($)','Undergraduate enrollment (fall 2022)']].apply(pd.to_numeric)"
   ]
  },
  {
   "cell_type": "code",
   "execution_count": 28,
   "id": "18bdc67f",
   "metadata": {},
   "outputs": [
    {
     "data": {
      "text/plain": [
       "University                               object\n",
       "Details                                  object\n",
       "Location                                 object\n",
       "Rank                                     object\n",
       "Tuition & Fee($)                          int64\n",
       "Undergraduate enrollment (fall 2022)    float64\n",
       "dtype: object"
      ]
     },
     "execution_count": 28,
     "metadata": {},
     "output_type": "execute_result"
    }
   ],
   "source": [
    "df.dtypes"
   ]
  },
  {
   "cell_type": "code",
   "execution_count": 29,
   "id": "aca26821",
   "metadata": {},
   "outputs": [
    {
     "data": {
      "text/html": [
       "<div>\n",
       "<style scoped>\n",
       "    .dataframe tbody tr th:only-of-type {\n",
       "        vertical-align: middle;\n",
       "    }\n",
       "\n",
       "    .dataframe tbody tr th {\n",
       "        vertical-align: top;\n",
       "    }\n",
       "\n",
       "    .dataframe thead th {\n",
       "        text-align: right;\n",
       "    }\n",
       "</style>\n",
       "<table border=\"1\" class=\"dataframe\">\n",
       "  <thead>\n",
       "    <tr style=\"text-align: right;\">\n",
       "      <th></th>\n",
       "      <th>Tuition &amp; Fee($)</th>\n",
       "      <th>Undergraduate enrollment (fall 2022)</th>\n",
       "    </tr>\n",
       "  </thead>\n",
       "  <tbody>\n",
       "    <tr>\n",
       "      <th>count</th>\n",
       "      <td>400.000000</td>\n",
       "      <td>386.000000</td>\n",
       "    </tr>\n",
       "    <tr>\n",
       "      <th>mean</th>\n",
       "      <td>36412.177500</td>\n",
       "      <td>12661.113990</td>\n",
       "    </tr>\n",
       "    <tr>\n",
       "      <th>std</th>\n",
       "      <td>14891.532946</td>\n",
       "      <td>11130.433472</td>\n",
       "    </tr>\n",
       "    <tr>\n",
       "      <th>min</th>\n",
       "      <td>2168.000000</td>\n",
       "      <td>699.000000</td>\n",
       "    </tr>\n",
       "    <tr>\n",
       "      <th>25%</th>\n",
       "      <td>24794.000000</td>\n",
       "      <td>3921.750000</td>\n",
       "    </tr>\n",
       "    <tr>\n",
       "      <th>50%</th>\n",
       "      <td>34546.500000</td>\n",
       "      <td>8748.000000</td>\n",
       "    </tr>\n",
       "    <tr>\n",
       "      <th>75%</th>\n",
       "      <td>46352.000000</td>\n",
       "      <td>18357.500000</td>\n",
       "    </tr>\n",
       "    <tr>\n",
       "      <th>max</th>\n",
       "      <td>68237.000000</td>\n",
       "      <td>65492.000000</td>\n",
       "    </tr>\n",
       "  </tbody>\n",
       "</table>\n",
       "</div>"
      ],
      "text/plain": [
       "       Tuition & Fee($)  Undergraduate enrollment (fall 2022)\n",
       "count        400.000000                            386.000000\n",
       "mean       36412.177500                          12661.113990\n",
       "std        14891.532946                          11130.433472\n",
       "min         2168.000000                            699.000000\n",
       "25%        24794.000000                           3921.750000\n",
       "50%        34546.500000                           8748.000000\n",
       "75%        46352.000000                          18357.500000\n",
       "max        68237.000000                          65492.000000"
      ]
     },
     "execution_count": 29,
     "metadata": {},
     "output_type": "execute_result"
    }
   ],
   "source": [
    "df.describe()"
   ]
  },
  {
   "cell_type": "markdown",
   "id": "ced75c8a",
   "metadata": {},
   "source": [
    "### III. Export and Data summary <a class=\"anchor\" id=\"sub_section_1_1_1\"></a>"
   ]
  },
  {
   "cell_type": "markdown",
   "id": "a02367dd",
   "metadata": {},
   "source": [
    "This is dataset: \n",
    "- Dataset Structure: 400 observations (rows), 6 features (variables)\n",
    "- Missing Data: only 14 missing data total in all columns\n",
    "- Data Type: two datatypes in this dataset: objects and integers"
   ]
  },
  {
   "cell_type": "markdown",
   "id": "841b1b0f",
   "metadata": {},
   "source": [
    "| Column | Description | \n",
    "| :---: | :--- |\n",
    "| University | Name of the national univerisity in the US. |\n",
    "| Details | Link to the details of ratings, rank and reviews of college. |\n",
    "| Location | Location of the college. |\n",
    "| Rank | The rank based on varying outcome measures related to schools' success at enrolling, retaining and graduating students from different backgrounds with manageable debt and post-graduate success. |\n",
    "| Tuition & Fee($) | The amount of money required for instruction and fees that are charged to every single student on campus that vary from college to college. |\n",
    "| Undergraduate enrollment (fall 2022) | The number of student enrolling at an institution in fall 2022. |"
   ]
  },
  {
   "cell_type": "code",
   "execution_count": 30,
   "id": "2a287487",
   "metadata": {},
   "outputs": [],
   "source": [
    "df.to_csv('2024 Top 400 National Universities | US News Rankings.csv')"
   ]
  }
 ],
 "metadata": {
  "kernelspec": {
   "display_name": "Python 3 (ipykernel)",
   "language": "python",
   "name": "python3"
  },
  "language_info": {
   "codemirror_mode": {
    "name": "ipython",
    "version": 3
   },
   "file_extension": ".py",
   "mimetype": "text/x-python",
   "name": "python",
   "nbconvert_exporter": "python",
   "pygments_lexer": "ipython3",
   "version": "3.10.9"
  }
 },
 "nbformat": 4,
 "nbformat_minor": 5
}
